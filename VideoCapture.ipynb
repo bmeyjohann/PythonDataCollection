{
 "cells": [
  {
   "cell_type": "code",
   "execution_count": 1,
   "id": "a603c2b5",
   "metadata": {},
   "outputs": [],
   "source": [
    "# IP adress of this computer.\n",
    "HOST = \"localhost\"\n",
    "# Port on which the server will listen.\n",
    "PORT = 1300\n",
    "# Whether to preview the camera pictures.\n",
    "SHOW_VIDEO = True\n",
    "# ID of camera to use.\n",
    "CAMERA_ID = 1"
   ]
  },
  {
   "cell_type": "code",
   "execution_count": 3,
   "id": "d2d9c508",
   "metadata": {},
   "outputs": [],
   "source": [
    "import json\n",
    "import socketserver\n",
    "import os\n",
    "import base64\n",
    "from io import BytesIO\n",
    "from PIL import Image\n",
    "import cv2\n",
    "import numpy as np"
   ]
  },
  {
   "cell_type": "code",
   "execution_count": 4,
   "id": "4510c610",
   "metadata": {},
   "outputs": [],
   "source": [
    "cam = cv2.VideoCapture(CAMERA_ID)\n",
    "cv2.namedWindow(\"Preview\")\n",
    "cv2.namedWindow(\"Mask\")\n",
    "\n",
    "_, image = cam.read()\n",
    "#print(image.shape[:2])\n",
    "mask = np.ones(image.shape)\n",
    "#print(mask.shape)\n",
    "\n",
    "threshold = [0, 0, 0]\n",
    "color_picked = np.zeros((3))\n",
    "\n",
    "def on_change_threshold_h(value):\n",
    "    threshold[0] = value\n",
    "def on_change_threshold_s(value):\n",
    "    threshold[1] = value\n",
    "def on_change_threshold_v(value):\n",
    "    threshold[2] = value\n",
    "\n",
    "cv2.createTrackbar(\"threshold_h\", \"Preview\", 0, 255, on_change_threshold_h)\n",
    "cv2.createTrackbar(\"threshold_s\", \"Preview\", 0, 255, on_change_threshold_s)\n",
    "cv2.createTrackbar(\"threshold_v\", \"Preview\", 0, 255, on_change_threshold_v)\n",
    "\n",
    "def pickColor(event, x, y, flags, param):\n",
    "    if event == cv2.EVENT_LBUTTONDOWN:\n",
    "        _, image = cam.read()\n",
    "        global color_picked\n",
    "        color_picked = cv2.cvtColor(np.uint8([[image[y, x]]]), cv2.COLOR_BGR2HSV)[0][0]\n",
    "        \n",
    "        #image_hsv = cv2.cvtColor(image, cv2.COLOR_BGR2HSV)\n",
    "        #global mask\n",
    "        #mask = np.bitwise_and(mask, cv2.inRange(image_hsv, color_bound1, color_bound2).astype(dtype=bool))\n",
    "\n",
    "cv2.setMouseCallback(\"Preview\", pickColor)"
   ]
  },
  {
   "cell_type": "code",
   "execution_count": 5,
   "id": "bcdeae4e",
   "metadata": {},
   "outputs": [],
   "source": [
    "while(SHOW_VIDEO):\n",
    "    _, image = cam.read()\n",
    "    \n",
    "    image_hsv = cv2.cvtColor(image, cv2.COLOR_BGR2HSV)\n",
    "    global color_picked\n",
    "    color_bound1 = color_picked - threshold\n",
    "    color_bound2 = color_picked + threshold\n",
    "    mask = cv2.inRange(image_hsv, color_bound1, color_bound2)\n",
    "    \n",
    "    cv2.imshow(\"Preview\", image)\n",
    "    cv2.imshow(\"Mask\", mask)\n",
    "    \n",
    "    if cv2.waitKey(1) & 0xFF == ord('q'):\n",
    "        cv2.destroyAllWindows()\n",
    "        break"
   ]
  },
  {
   "cell_type": "code",
   "execution_count": 6,
   "id": "8a670723",
   "metadata": {},
   "outputs": [],
   "source": [
    "threshold = 120\n",
    "cv2.namedWindow(\"Result\")\n",
    "\n",
    "def on_change_threshold(value):\n",
    "    global threshold\n",
    "    threshold = value\n",
    "\n",
    "cv2.createTrackbar(\"threshold\", \"Result\", 0, 255, on_change_threshold)\n",
    "        \n",
    "while(True):\n",
    "    _, inv_image = cam.read()\n",
    "    inv_masked_image = cv2.bitwise_and(inv_image, inv_image, mask=mask)\n",
    "    masked_image = cv2.cvtColor(np.invert(inv_masked_image), cv2.COLOR_BGR2GRAY)\n",
    "    masked_image = cv2.threshold(masked_image,threshold,255,cv2.THRESH_BINARY)[1]\n",
    "    #print(threshold)\n",
    "    cv2.imshow(\"Result\", masked_image)\n",
    "    if cv2.waitKey(1) & 0xFF == ord('q'):\n",
    "        cv2.destroyAllWindows()\n",
    "        break"
   ]
  },
  {
   "cell_type": "code",
   "execution_count": null,
   "id": "468b630a",
   "metadata": {},
   "outputs": [
    {
     "name": "stdout",
     "output_type": "stream",
     "text": [
      "Starting server.\n"
     ]
    }
   ],
   "source": [
    "class TCPHandler(socketserver.StreamRequestHandler):\n",
    "\n",
    "    def handle(self):\n",
    "        print(\"client connected.\")\n",
    "        try:\n",
    "            cam = cv2.VideoCapture(CAMERA_ID)\n",
    "            _, raw_image = cam.read()\n",
    "            inv_masked_image = cv2.bitwise_and(raw_image, raw_image, mask=mask)\n",
    "            header = json.loads(self.rfile.readline().strip())[\"header\"]\n",
    "            if (header == \"image\"):\n",
    "                _, image_arr = cv2.imencode('.jpg', inv_masked_image)\n",
    "                image_bytes = image_arr.tobytes()\n",
    "                image_b64 = base64.b64encode(image_bytes)\n",
    "                self.wfile.write(image_b64)\n",
    "            elif (header == \"raw\"):\n",
    "                _, image_arr = cv2.imencode('.jpg', raw_image)\n",
    "                image_bytes = image_arr.tobytes()\n",
    "                image_b64 = base64.b64encode(image_bytes)\n",
    "                self.wfile.write(image_b64)\n",
    "            else:\n",
    "                masked_image = cv2.cvtColor(np.invert(inv_masked_image), cv2.COLOR_BGR2GRAY)\n",
    "                masked_image = cv2.threshold(masked_image,threshold,255,cv2.THRESH_BINARY)[1]\n",
    "                _, image_arr = cv2.imencode('.jpg', masked_image)\n",
    "                image_bytes = image_arr.tobytes()\n",
    "                image_b64 = base64.b64encode(image_bytes)\n",
    "                \n",
    "                self.wfile.write(image_b64)\n",
    "        except Exception as e:\n",
    "            print(e.message, e.args)\n",
    "\n",
    "with socketserver.TCPServer((HOST, PORT), TCPHandler) as server:\n",
    "    print(\"Starting server.\")\n",
    "    server.serve_forever()"
   ]
  },
  {
   "cell_type": "code",
   "execution_count": null,
   "id": "2ad24653",
   "metadata": {},
   "outputs": [],
   "source": []
  }
 ],
 "metadata": {
  "kernelspec": {
   "display_name": "Python 3",
   "language": "python",
   "name": "python3"
  },
  "language_info": {
   "codemirror_mode": {
    "name": "ipython",
    "version": 3
   },
   "file_extension": ".py",
   "mimetype": "text/x-python",
   "name": "python",
   "nbconvert_exporter": "python",
   "pygments_lexer": "ipython3",
   "version": "3.9.1"
  },
  "vscode": {
   "interpreter": {
    "hash": "820d776940a02930c69820a8cec178404e4e9e60b6116e2717a21913b50566a0"
   }
  }
 },
 "nbformat": 4,
 "nbformat_minor": 5
}
