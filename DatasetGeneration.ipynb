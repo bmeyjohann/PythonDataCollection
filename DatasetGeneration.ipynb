{
 "cells": [
  {
   "cell_type": "markdown",
   "id": "e5c8c09c",
   "metadata": {},
   "source": [
    "# Dataset Generation using Emulator"
   ]
  },
  {
   "cell_type": "markdown",
   "id": "858537b9",
   "metadata": {},
   "source": [
    "Start the emulator and save a screenshot containing the screen of the emulated device exactly.\n",
    "Save the path to the screenshot in the variable below:"
   ]
  },
  {
   "cell_type": "code",
   "execution_count": null,
   "id": "a762cccc",
   "metadata": {},
   "outputs": [],
   "source": [
    "take_screenshot = False\n",
    "use_android_screenshot = False\n",
    "get_image_from_server = True\n",
    "# TODO use_camera?\n",
    "\n",
    "screenshot = 'AndroidScreenshot.png'"
   ]
  },
  {
   "cell_type": "markdown",
   "id": "a5801ab3",
   "metadata": {},
   "source": [
    "Run the cell below and check if the output matches the screen of the emulated device."
   ]
  },
  {
   "cell_type": "code",
   "execution_count": null,
   "id": "470c79d3",
   "metadata": {},
   "outputs": [],
   "source": [
    "if(take_screenshot):\n",
    "    import pyautogui\n",
    "\n",
    "    box = pyautogui.locateOnScreen(screenshot, grayscale=True)\n",
    "\n",
    "    location = [box.left, box.top, box.width, box.height]\n",
    "\n",
    "    im = pyautogui.screenshot(region=location)\n",
    "    display(im)"
   ]
  },
  {
   "cell_type": "markdown",
   "id": "fdb356c7",
   "metadata": {},
   "source": [
    "Use the next cell to adjust the screenshot location and size if necessary."
   ]
  },
  {
   "cell_type": "code",
   "execution_count": null,
   "id": "f705fa5f",
   "metadata": {},
   "outputs": [],
   "source": [
    "if(take_screenshot):\n",
    "    location[3] = location[3] + 1\n",
    "\n",
    "    im = pyautogui.screenshot(region=location)\n",
    "    print(location)\n",
    "    display(im)"
   ]
  },
  {
   "cell_type": "markdown",
   "id": "8b99289d",
   "metadata": {},
   "source": [
    "Configure the parameters in the next cell before starting the dataset collection."
   ]
  },
  {
   "cell_type": "code",
   "execution_count": null,
   "id": "c407007e",
   "metadata": {},
   "outputs": [],
   "source": [
    "# Number of elements that will be collected.\n",
    "DATASET_SIZE = 200\n",
    "# Path of directory at which the dataset will be saved.\n",
    "DATASET_PATH = \"dataset/\"\n",
    "# IP adress of device running mobile application.\n",
    "APPLICATION_HOST = \"192.168.1.100\"\n",
    "# Port on which the server of the application is listening.\n",
    "APPLICATION_PORT = 1280\n",
    "# IP adress of device capturing images.\n",
    "CAMERA_HOST = \"localhost\"\n",
    "# Port on which the server for capturing is listening.\n",
    "CAMERA_PORT = 1300"
   ]
  },
  {
   "cell_type": "markdown",
   "id": "f9115e2c",
   "metadata": {},
   "source": [
    "Now, run the cell below. It will start a server, which the android application can then connect to and upload it's data. Thus, you can start the android application after starting the next cell. The dataset collection will happen automatically."
   ]
  },
  {
   "cell_type": "code",
   "execution_count": null,
   "id": "079ea80a",
   "metadata": {},
   "outputs": [],
   "source": [
    "import json\n",
    "import socket\n",
    "import socketserver\n",
    "import os\n",
    "import base64\n",
    "from io import BytesIO\n",
    "from PIL import Image\n",
    "from IPython.display import clear_output\n",
    "import time\n",
    "\n",
    "class Dataset:\n",
    "    def __init__(self, size, path):\n",
    "        self.total_size = size\n",
    "        self.current_size = 0\n",
    "        self.path = path\n",
    "        # TODO: check path for validity and if dir is empty.\n",
    "        \n",
    "    def captureAndSaveImage(self, path: str):\n",
    "        im = pyautogui.screenshot(path, region=location)\n",
    "        # display(im)\n",
    "            \n",
    "    def getImageFromServer(self):\n",
    "        client = socket.socket(socket.AF_INET, socket.SOCK_STREAM)\n",
    "        \n",
    "        client.connect((CAMERA_HOST, CAMERA_PORT))\n",
    "        request = {\"header\": \"image\"}\n",
    "        client.sendall((json.dumps(request) + \"\\n\").encode())\n",
    "        response = client.makefile().readline()\n",
    "        return response\n",
    "            \n",
    "    def getMaskFromServer(self):\n",
    "        client = socket.socket(socket.AF_INET, socket.SOCK_STREAM)\n",
    "\n",
    "        client.connect((CAMERA_HOST, CAMERA_PORT))\n",
    "        request = {\"header\": \"mask\"}\n",
    "        client.sendall((json.dumps(request) + \"\\n\").encode())\n",
    "        response = client.makefile().readline()\n",
    "        return response\n",
    "        \n",
    "    def getFromServerAndSaveImage(self, path: str):\n",
    "        image_base64 = self.getImageFromServer()\n",
    "        image_bytes = base64.b64decode(image_base64)\n",
    "        image_file = BytesIO(image_bytes)\n",
    "        image = Image.open(image_file)\n",
    "        display(image)\n",
    "        image.save(path)\n",
    "        \n",
    "    def getFromServerAndSaveMask(self, path: str):\n",
    "        image_base64 = self.getMaskFromServer()\n",
    "        image_bytes = base64.b64decode(image_base64)\n",
    "        image_file = BytesIO(image_bytes)\n",
    "        image = Image.open(image_file)\n",
    "        display(image)\n",
    "        image.save(path)\n",
    "        \n",
    "    def saveAnnotations(self, path: str, data):\n",
    "        \n",
    "        data.pop(\"-1\", None)\n",
    "        for id_of_element, interactive_element in data.items():\n",
    "            data.get(id_of_element).pop(\"mask\", None)\n",
    "        try:\n",
    "            with open(path, \"w\") as file:\n",
    "                file.write(json.dumps(data, indent=2))\n",
    "        except Exception as e:\n",
    "            print(e.message, e.args)\n",
    "        \n",
    "    def saveMasks(self, data):\n",
    "        data = json.loads(data)\n",
    "        for id_of_element, interactive_element in data.items():\n",
    "            mask_bytes = base64.b64decode(interactive_element.get(\"mask\"))\n",
    "            mask_file = BytesIO(mask_bytes)\n",
    "            mask = Image.open(mask_file)\n",
    "            #display(mask)\n",
    "            if id_of_element == \"-1\":\n",
    "                if use_android_screenshot:\n",
    "                    mask.save(self.path + f\"{self.current_size}.png\")\n",
    "            else:\n",
    "                mask.save(self.path + f\"{self.current_size}_{id_of_element}.png\")\n",
    "            \n",
    "            \n",
    "    def handleCollection(self, data) -> bool:\n",
    "        self.saveMasks(data)\n",
    "        self.saveAnnotations(self.path + f\"{self.current_size}.json\", json.loads(data))\n",
    "        self.current_size = self.current_size + 1\n",
    "        print(f\"Progress: {self.current_size}/{self.total_size}\")\n",
    "        if self.current_size >= self.total_size:\n",
    "            print(\"Dataset collected.\")\n",
    "            return True\n",
    "        return False\n",
    "\n",
    "\n",
    "dataset = Dataset(DATASET_SIZE, DATASET_PATH)"
   ]
  },
  {
   "cell_type": "code",
   "execution_count": null,
   "id": "81eda561",
   "metadata": {},
   "outputs": [],
   "source": [
    "class TCPHandler(socketserver.StreamRequestHandler):\n",
    "\n",
    "    def handle(self):\n",
    "        #print(\"Client connected.\")\n",
    "        # clear_output(wait=True)\n",
    "        try:\n",
    "            data = self.rfile.readline().strip()\n",
    "            \n",
    "            if json.loads(data).get(\"answer\") == \"ready\":\n",
    "                #print(\"received ready\")\n",
    "                if(take_screenshot):\n",
    "                    dataset.captureAndSaveImage(dataset.path + f\"{dataset.current_size}.png\")\n",
    "                elif(get_image_from_server):\n",
    "                    dataset.getFromServerAndSaveImage(dataset.path + f\"{dataset.current_size}.png\")\n",
    "\n",
    "                response = {\"answer\": \"masks\"}\n",
    "                self.wfile.write(json.dumps(response).encode(\"utf-8\"))\n",
    "                self.wfile.write(b\"\\n\")\n",
    "                # print(\"send masks\")\n",
    "\n",
    "                data = self.rfile.readline().strip()\n",
    "                # print(\"received data\")\n",
    "\n",
    "                collectionFinished = dataset.handleCollection(data)\n",
    "\n",
    "                if collectionFinished:\n",
    "                    self.server._BaseServer__shutdown_request = True\n",
    "\n",
    "            response = {\"answer\": \"randomize\"}\n",
    "            self.wfile.write(json.dumps(response).encode())\n",
    "        except Exception as e:\n",
    "            print(e.message, e.args)\n",
    "\n",
    "with socketserver.TCPServer((HOST, PORT), TCPHandler) as server:\n",
    "    print(\"Starting server.\")\n",
    "    server.serve_forever()"
   ]
  },
  {
   "cell_type": "code",
   "execution_count": null,
   "id": "3995394d",
   "metadata": {},
   "outputs": [],
   "source": [
    "dataset.getFromServerAndSaveImage(dataset.path + f\"{dataset.current_size}.png\")"
   ]
  },
  {
   "cell_type": "code",
   "execution_count": null,
   "id": "630683a2",
   "metadata": {},
   "outputs": [],
   "source": [
    "import socket\n",
    "import json\n",
    "import time\n",
    "\n",
    "def makeRequest(header):\n",
    "    client = socket.socket(socket.AF_INET, socket.SOCK_STREAM)\n",
    "    client.connect((APPLICATION_HOST, APPLICATION_PORT))\n",
    "\n",
    "    request = {\"header\": header}\n",
    "    client.sendall((json.dumps(request) + \"\\n\").encode())\n",
    "\n",
    "    response = json.loads(client.makefile().readline())\n",
    "    print(json.dumps(response, indent = 2))\n",
    "\n",
    "    client.close()\n",
    "\n",
    "    return response\n",
    "\n",
    "while(dataset.current_size < dataset.total_size):\n",
    "    response = makeRequest(\"ready?\")\n",
    "    if(response[\"header\"] != \"ready!\"):\n",
    "        continue\n",
    "\n",
    "    time.sleep(0.2)\n",
    "    dataset.getFromServerAndSaveImage(dataset.path + f\"{dataset.current_size}.png\")\n",
    "\n",
    "    response = makeRequest(\"masks?\")\n",
    "    if(response[\"header\"] != \"masks!\"):\n",
    "        continue\n",
    "\n",
    "    data = response[\"body\"]\n",
    "    data.pop(\"-1\", None)\n",
    "\n",
    "    try:\n",
    "        with open(dataset.path + f\"{dataset.current_size}.json\", \"w\") as file:\n",
    "            file.write(json.dumps(data, indent=2))\n",
    "    except Exception as e:\n",
    "        print(e.message, e.args)\n",
    "\n",
    "    for mask_index in data:\n",
    "        response = makeRequest(\"next state?\")\n",
    "        time.sleep(0.2)\n",
    "        dataset.getFromServerAndSaveMask(dataset.path + f\"{dataset.current_size}_{mask_index}.png\")\n",
    "\n",
    "    response = makeRequest(\"randomize\")\n",
    "\n",
    "    dataset.current_size = dataset.current_size + 1"
   ]
  },
  {
   "cell_type": "code",
   "execution_count": null,
   "id": "1c66cc4c",
   "metadata": {},
   "outputs": [],
   "source": []
  }
 ],
 "metadata": {
  "kernelspec": {
   "display_name": "Python 3.9.1 ('base')",
   "language": "python",
   "name": "python3"
  },
  "language_info": {
   "codemirror_mode": {
    "name": "ipython",
    "version": 3
   },
   "file_extension": ".py",
   "mimetype": "text/x-python",
   "name": "python",
   "nbconvert_exporter": "python",
   "pygments_lexer": "ipython3",
   "version": "3.9.1"
  },
  "vscode": {
   "interpreter": {
    "hash": "820d776940a02930c69820a8cec178404e4e9e60b6116e2717a21913b50566a0"
   }
  }
 },
 "nbformat": 4,
 "nbformat_minor": 5
}
