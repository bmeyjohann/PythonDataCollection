{
 "cells": [
  {
   "cell_type": "markdown",
   "id": "e5c8c09c",
   "metadata": {},
   "source": [
    "# Dataset Generation using Emulator"
   ]
  },
  {
   "cell_type": "markdown",
   "id": "858537b9",
   "metadata": {},
   "source": [
    "Start the emulator and save a screenshot containing the screen of the emulated device exactly.\n",
    "Save the path to the screenshot in the variable below:\n",
    "\n",
    "!Currently using app coordinates. Thus, cut out the app window only and not the whole screen."
   ]
  },
  {
   "cell_type": "code",
   "execution_count": 9,
   "id": "a762cccc",
   "metadata": {},
   "outputs": [],
   "source": [
    "screenshot = 'AndroidScreenshot.png'"
   ]
  },
  {
   "cell_type": "markdown",
   "id": "a5801ab3",
   "metadata": {},
   "source": [
    "Run the cell below and check if the output matches the screen of the emulated device."
   ]
  },
  {
   "cell_type": "code",
   "execution_count": 39,
   "id": "470c79d3",
   "metadata": {},
   "outputs": [
    {
     "data": {
      "image/png": "[encoded data removed]",
      "text/plain": [
       "<PIL.Image.Image image mode=RGB size=439x835 at 0x182A9331EE0>"
      ]
     },
     "metadata": {},
     "output_type": "display_data"
    }
   ],
   "source": [
    "import pyautogui\n",
    "\n",
    "box = pyautogui.locateOnScreen(screenshot, grayscale=True)\n",
    "\n",
    "location = [box.left, box.top, box.width, box.height]\n",
    "\n",
    "im = pyautogui.screenshot(region=location)\n",
    "display(im)"
   ]
  },
  {
   "cell_type": "markdown",
   "id": "fdb356c7",
   "metadata": {},
   "source": [
    "Use the next cell to adjust the screenshot location and size if necessary."
   ]
  },
  {
   "cell_type": "code",
   "execution_count": 40,
   "id": "f705fa5f",
   "metadata": {},
   "outputs": [
    {
     "name": "stdout",
     "output_type": "stream",
     "text": [
      "[880, 135, 439, 835]\n"
     ]
    },
    {
     "data": {
      "image/png": "[encoded data removed]",
      "text/plain": [
       "<PIL.Image.Image image mode=RGB size=439x835 at 0x182A9331970>"
      ]
     },
     "metadata": {},
     "output_type": "display_data"
    }
   ],
   "source": [
    "location[0] = 880\n",
    "\n",
    "im = pyautogui.screenshot(region=location)\n",
    "print(location)\n",
    "display(im)"
   ]
  },
  {
   "cell_type": "markdown",
   "id": "8b99289d",
   "metadata": {},
   "source": [
    "Configure the parameters in the next cell before starting the dataset collection."
   ]
  },
  {
   "cell_type": "code",
   "execution_count": 11,
   "id": "c407007e",
   "metadata": {},
   "outputs": [],
   "source": [
    "# Number of elements that will be collected.\n",
    "DATASET_SIZE = 10\n",
    "# Path of directory at which the dataset will be saved.\n",
    "DATASET_PATH = \"dataset/\"\n",
    "# IP adress of this computer.\n",
    "HOST = \"192.168.1.120\"\n",
    "# Port on which the server will listen.\n",
    "PORT = 1285"
   ]
  },
  {
   "cell_type": "markdown",
   "id": "f9115e2c",
   "metadata": {},
   "source": [
    "Now, run the cell below. It will start a server, which the android application can then connect to and upload it's data. Thus, you can start the android application after starting the next cell. The dataset collection will happen automatically."
   ]
  },
  {
   "cell_type": "code",
   "execution_count": 15,
   "id": "81eda561",
   "metadata": {},
   "outputs": [
    {
     "name": "stdout",
     "output_type": "stream",
     "text": [
      "Starting server.\n",
      "Progress: 1/10\n",
      "Progress: 2/10\n",
      "Progress: 3/10\n",
      "Progress: 4/10\n",
      "Progress: 5/10\n",
      "Progress: 6/10\n",
      "Progress: 7/10\n",
      "Progress: 8/10\n",
      "Progress: 9/10\n",
      "Progress: 10/10\n",
      "Dataset collected.\n"
     ]
    }
   ],
   "source": [
    "import json\n",
    "import socketserver\n",
    "import os\n",
    "\n",
    "class Dataset:\n",
    "    def __init__(self, size, path):\n",
    "        self.total_size = size\n",
    "        self.current_size = 0\n",
    "        self.path = path\n",
    "        # TODO: check path for validity and if dir is empty.\n",
    "        \n",
    "    def captureAndSaveImage(self, path: str):\n",
    "        pyautogui.screenshot(path, region=location)\n",
    "        \n",
    "    def saveAnnotations(self, path: str, data: str):\n",
    "        try:\n",
    "            with open(path, \"w\") as file:\n",
    "                file.write(data)\n",
    "        except:\n",
    "            print(f\"Could not create file at {path} for saving annotations.\")\n",
    "            \n",
    "    def handleCollection(self, data) -> bool:\n",
    "        self.saveAnnotations(self.path + f\"{self.current_size}.json\", data)\n",
    "        self.captureAndSaveImage(self.path + f\"{self.current_size}.png\")\n",
    "        self.current_size = self.current_size + 1\n",
    "        print(f\"Progress: {self.current_size}/{self.total_size}\")\n",
    "        if self.current_size >= self.total_size:\n",
    "            print(\"Dataset collected.\")\n",
    "            return True\n",
    "        return False\n",
    "\n",
    "\n",
    "dataset = Dataset(DATASET_SIZE, DATASET_PATH)\n",
    "    \n",
    "\n",
    "class TCPHandler(socketserver.StreamRequestHandler):\n",
    "\n",
    "    def handle(self):\n",
    "        # self.rfile is a file-like object created by the handler;\n",
    "        # we can now use e.g. readline() instead of raw recv() calls\n",
    "        self.data = self.rfile.readline().strip()\n",
    "        # print(\"{} wrote:\".format(self.client_address[0]))\n",
    "        jsontext = json.loads(self.data)\n",
    "        # print(json.dumps(jsontext, indent=4))\n",
    "        \n",
    "        collectionFinished = dataset.handleCollection(json.dumps(json.loads(self.data), indent=4))\n",
    "        \n",
    "        if collectionFinished:\n",
    "            self.server._BaseServer__shutdown_request = True\n",
    "        \n",
    "        # Likewise, self.wfile is a file-like object used to write back\n",
    "        # to the client\n",
    "        response = {\"answer\": \"randomize\"}\n",
    "        self.wfile.write(json.dumps(response).encode())\n",
    "\n",
    "with socketserver.TCPServer((HOST, PORT), TCPHandler) as server:\n",
    "    print(\"Starting server.\")\n",
    "    server.serve_forever()"
   ]
  },
  {
   "cell_type": "code",
   "execution_count": null,
   "id": "3995394d",
   "metadata": {},
   "outputs": [],
   "source": []
  }
 ],
 "metadata": {
  "kernelspec": {
   "display_name": "Python 3 (ipykernel)",
   "language": "python",
   "name": "python3"
  },
  "language_info": {
   "codemirror_mode": {
    "name": "ipython",
    "version": 3
   },
   "file_extension": ".py",
   "mimetype": "text/x-python",
   "name": "python",
   "nbconvert_exporter": "python",
   "pygments_lexer": "ipython3",
   "version": "3.9.12"
  }
 },
 "nbformat": 4,
 "nbformat_minor": 5
}
