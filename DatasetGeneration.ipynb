{
 "cells": [
  {
   "cell_type": "markdown",
   "id": "e5c8c09c",
   "metadata": {},
   "source": [
    "# Dataset Generation using Emulator"
   ]
  },
  {
   "cell_type": "markdown",
   "id": "858537b9",
   "metadata": {},
   "source": [
    "Start the emulator and save a screenshot containing the screen of the emulated device exactly.\n",
    "Save the path to the screenshot in the variable below:"
   ]
  },
  {
   "cell_type": "code",
   "execution_count": 1,
   "id": "a762cccc",
   "metadata": {},
   "outputs": [],
   "source": [
    "take_screenshot = False\n",
    "use_android_screenshot = True\n",
    "# TODO use_camera?\n",
    "\n",
    "screenshot = 'AndroidScreenshot.png'"
   ]
  },
  {
   "cell_type": "markdown",
   "id": "a5801ab3",
   "metadata": {},
   "source": [
    "Run the cell below and check if the output matches the screen of the emulated device."
   ]
  },
  {
   "cell_type": "code",
   "execution_count": 2,
   "id": "470c79d3",
   "metadata": {},
   "outputs": [
    {
     "ename": "ModuleNotFoundError",
     "evalue": "No module named 'pyautogui'",
     "output_type": "error",
     "traceback": [
      "\u001b[1;31m---------------------------------------------------------------------------\u001b[0m",
      "\u001b[1;31mModuleNotFoundError\u001b[0m                       Traceback (most recent call last)",
      "Input \u001b[1;32mIn [2]\u001b[0m, in \u001b[0;36m<cell line: 1>\u001b[1;34m()\u001b[0m\n\u001b[1;32m----> 1\u001b[0m \u001b[38;5;28;01mimport\u001b[39;00m \u001b[38;5;21;01mpyautogui\u001b[39;00m\n\u001b[0;32m      3\u001b[0m box \u001b[38;5;241m=\u001b[39m pyautogui\u001b[38;5;241m.\u001b[39mlocateOnScreen(screenshot, grayscale\u001b[38;5;241m=\u001b[39m\u001b[38;5;28;01mTrue\u001b[39;00m)\n\u001b[0;32m      5\u001b[0m location \u001b[38;5;241m=\u001b[39m [box\u001b[38;5;241m.\u001b[39mleft, box\u001b[38;5;241m.\u001b[39mtop, box\u001b[38;5;241m.\u001b[39mwidth, box\u001b[38;5;241m.\u001b[39mheight]\n",
      "\u001b[1;31mModuleNotFoundError\u001b[0m: No module named 'pyautogui'"
     ]
    }
   ],
   "source": [
    "import pyautogui\n",
    "\n",
    "box = pyautogui.locateOnScreen(screenshot, grayscale=True)\n",
    "\n",
    "location = [box.left, box.top, box.width, box.height]\n",
    "\n",
    "im = pyautogui.screenshot(region=location)\n",
    "display(im)"
   ]
  },
  {
   "cell_type": "markdown",
   "id": "fdb356c7",
   "metadata": {},
   "source": [
    "Use the next cell to adjust the screenshot location and size if necessary."
   ]
  },
  {
   "cell_type": "code",
   "execution_count": null,
   "id": "f705fa5f",
   "metadata": {},
   "outputs": [],
   "source": [
    "# location[0] = 880\n",
    "\n",
    "im = pyautogui.screenshot(region=location)\n",
    "print(location)\n",
    "display(im)"
   ]
  },
  {
   "cell_type": "markdown",
   "id": "8b99289d",
   "metadata": {},
   "source": [
    "Configure the parameters in the next cell before starting the dataset collection."
   ]
  },
  {
   "cell_type": "code",
   "execution_count": 7,
   "id": "c407007e",
   "metadata": {},
   "outputs": [],
   "source": [
    "# Number of elements that will be collected.\n",
    "DATASET_SIZE = 10\n",
    "# Path of directory at which the dataset will be saved.\n",
    "DATASET_PATH = \"dataset/\"\n",
    "# IP adress of this computer.\n",
    "HOST = \"192.168.1.186\"\n",
    "# Port on which the server will listen.\n",
    "PORT = 1281"
   ]
  },
  {
   "cell_type": "markdown",
   "id": "f9115e2c",
   "metadata": {},
   "source": [
    "Now, run the cell below. It will start a server, which the android application can then connect to and upload it's data. Thus, you can start the android application after starting the next cell. The dataset collection will happen automatically."
   ]
  },
  {
   "cell_type": "code",
   "execution_count": 8,
   "id": "81eda561",
   "metadata": {},
   "outputs": [
    {
     "name": "stdout",
     "output_type": "stream",
     "text": [
      "Starting server.\n",
      "client connected\n",
      "received ready\n",
      "Progress: 1/10\n",
      "client connected\n",
      "received ready\n",
      "Progress: 2/10\n",
      "client connected\n",
      "received ready\n",
      "Progress: 3/10\n",
      "client connected\n",
      "received ready\n",
      "Progress: 4/10\n",
      "client connected\n",
      "received ready\n",
      "Progress: 5/10\n",
      "client connected\n",
      "received ready\n",
      "Progress: 6/10\n",
      "client connected\n",
      "received ready\n",
      "Progress: 7/10\n",
      "client connected\n",
      "received ready\n",
      "Progress: 8/10\n",
      "client connected\n",
      "received ready\n",
      "Progress: 9/10\n",
      "client connected\n",
      "received ready\n",
      "Progress: 10/10\n",
      "Dataset collected.\n"
     ]
    }
   ],
   "source": [
    "import json\n",
    "import socketserver\n",
    "import os\n",
    "import base64\n",
    "from io import BytesIO\n",
    "from PIL import Image\n",
    "from IPython.display import clear_output\n",
    "import time\n",
    "\n",
    "class Dataset:\n",
    "    def __init__(self, size, path):\n",
    "        self.total_size = size\n",
    "        self.current_size = 0\n",
    "        self.path = path\n",
    "        # TODO: check path for validity and if dir is empty.\n",
    "        \n",
    "    def captureAndSaveImage(self, path: str):\n",
    "        if take_screenshot:\n",
    "            im = pyautogui.screenshot(path, region=location)\n",
    "            # display(im)\n",
    "        \n",
    "    def saveAnnotations(self, path: str, data):\n",
    "        \n",
    "        data.pop(\"-1\", None)\n",
    "        for id_of_element, interactive_element in data.items():\n",
    "            data.get(id_of_element).pop(\"mask\", None)\n",
    "        try:\n",
    "            with open(path, \"w\") as file:\n",
    "                file.write(json.dumps(data, indent=2))\n",
    "        except Exception as e:\n",
    "            print(e.message, e.args)\n",
    "        \n",
    "    def saveMasks(self, data):\n",
    "        data = json.loads(data)\n",
    "        for id_of_element, interactive_element in data.items():\n",
    "            mask_bytes = base64.b64decode(interactive_element.get(\"mask\"))\n",
    "            mask_file = BytesIO(mask_bytes)\n",
    "            mask = Image.open(mask_file)\n",
    "            #display(mask)\n",
    "            if id_of_element == \"-1\":\n",
    "                if use_android_screenshot:\n",
    "                    mask.save(self.path + f\"{self.current_size}.png\")\n",
    "            else:\n",
    "                mask.save(self.path + f\"{self.current_size}_{id_of_element}.png\")\n",
    "            \n",
    "            \n",
    "    def handleCollection(self, data) -> bool:\n",
    "        self.saveMasks(data)\n",
    "        self.saveAnnotations(self.path + f\"{self.current_size}.json\", json.loads(data))\n",
    "        self.current_size = self.current_size + 1\n",
    "        print(f\"Progress: {self.current_size}/{self.total_size}\")\n",
    "        if self.current_size >= self.total_size:\n",
    "            print(\"Dataset collected.\")\n",
    "            return True\n",
    "        return False\n",
    "\n",
    "\n",
    "dataset = Dataset(DATASET_SIZE, DATASET_PATH)\n",
    "    \n",
    "\n",
    "class TCPHandler(socketserver.StreamRequestHandler):\n",
    "\n",
    "    def handle(self):\n",
    "        print(\"client connected\")\n",
    "        # clear_output(wait=True)\n",
    "        try:\n",
    "            data = self.rfile.readline().strip()\n",
    "            \n",
    "            if json.loads(data).get(\"answer\") == \"ready\":\n",
    "                print(\"received ready\")\n",
    "                dataset.captureAndSaveImage(dataset.path + f\"{dataset.current_size}.png\")\n",
    "\n",
    "                response = {\"answer\": \"masks\"}\n",
    "                self.wfile.write(json.dumps(response).encode(\"utf-8\"))\n",
    "                self.wfile.write(b\"\\n\")\n",
    "                # print(\"send masks\")\n",
    "\n",
    "                data = self.rfile.readline().strip()\n",
    "                # print(\"received data\")\n",
    "\n",
    "                collectionFinished = dataset.handleCollection(data)\n",
    "\n",
    "                if collectionFinished:\n",
    "                    self.server._BaseServer__shutdown_request = True\n",
    "\n",
    "            response = {\"answer\": \"randomize\"}\n",
    "            self.wfile.write(json.dumps(response).encode())\n",
    "        except Exception as e:\n",
    "            print(e.message, e.args)\n",
    "\n",
    "with socketserver.TCPServer((HOST, PORT), TCPHandler) as server:\n",
    "    print(\"Starting server.\")\n",
    "    server.serve_forever()"
   ]
  },
  {
   "cell_type": "code",
   "execution_count": null,
   "id": "3995394d",
   "metadata": {},
   "outputs": [],
   "source": []
  }
 ],
 "metadata": {
  "kernelspec": {
   "display_name": "Python 3",
   "language": "python",
   "name": "python3"
  },
  "language_info": {
   "codemirror_mode": {
    "name": "ipython",
    "version": 3
   },
   "file_extension": ".py",
   "mimetype": "text/x-python",
   "name": "python",
   "nbconvert_exporter": "python",
   "pygments_lexer": "ipython3",
   "version": "3.9.1"
  }
 },
 "nbformat": 4,
 "nbformat_minor": 5
}
